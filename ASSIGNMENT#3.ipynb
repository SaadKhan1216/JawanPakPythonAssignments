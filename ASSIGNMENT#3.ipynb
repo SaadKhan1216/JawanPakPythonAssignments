{
 "cells": [
  {
   "cell_type": "code",
   "execution_count": 1,
   "metadata": {},
   "outputs": [
    {
     "name": "stdout",
     "output_type": "stream",
     "text": [
      "Twinkle, twinkle, little star, \n",
      "\tHow I wonder what you are! \n",
      "\t\tUp above the world so high, \n",
      "\t\tLike a diamond in the sky. \n",
      "Twinkle, twinkle, little star, \n",
      "\tHow I wonder what you are!\n"
     ]
    }
   ],
   "source": [
    "#Q1\n",
    "print(\"Twinkle, twinkle, little star, \\n\\tHow I wonder what you are! \\n\\t\\tUp above the world so high, \\n\\t\\tLike a diamond in the sky. \\nTwinkle, twinkle, little star, \\n\\tHow I wonder what you are!\") "
   ]
  },
  {
   "cell_type": "code",
   "execution_count": 3,
   "metadata": {},
   "outputs": [
    {
     "name": "stdout",
     "output_type": "stream",
     "text": [
      "3.7.3\n"
     ]
    }
   ],
   "source": [
    "#Q2\n",
    "import platform\n",
    "print(platform.python_version())"
   ]
  },
  {
   "cell_type": "code",
   "execution_count": 2,
   "metadata": {},
   "outputs": [
    {
     "name": "stdout",
     "output_type": "stream",
     "text": [
      "26-10-2021 16:04:59\n"
     ]
    }
   ],
   "source": [
    "#Q3\n",
    "from datetime import datetime\n",
    "now=datetime.now()\n",
    "print (now.strftime(\"%d-%m-%Y %H:%M:%S\"))"
   ]
  },
  {
   "cell_type": "code",
   "execution_count": 4,
   "metadata": {},
   "outputs": [
    {
     "name": "stdout",
     "output_type": "stream",
     "text": [
      "Input the Radius of Circle: 0.5\n",
      "Area is:  0.7853981633974483\n"
     ]
    }
   ],
   "source": [
    "#Q4\n",
    "from math import pi\n",
    "r=float(input(\"Input the Radius of Circle: \"))\n",
    "print(\"Area is: \",pi * r**2)"
   ]
  },
  {
   "cell_type": "code",
   "execution_count": 5,
   "metadata": {},
   "outputs": [
    {
     "name": "stdout",
     "output_type": "stream",
     "text": [
      "First Name: Saad\n",
      "Last Name: Tahir\n",
      "Reversed Name is: Tahir Saad\n"
     ]
    }
   ],
   "source": [
    "#Q5\n",
    "first=str(input(\"First Name: \"))\n",
    "last= str(input(\"Last Name: \"))\n",
    "print(\"Reversed Name is: \"+ last +\" \"+ first)"
   ]
  },
  {
   "cell_type": "code",
   "execution_count": 6,
   "metadata": {},
   "outputs": [
    {
     "name": "stdout",
     "output_type": "stream",
     "text": [
      "Enter Number: 7\n",
      "Enter Number: 8\n",
      "Addition:  15\n"
     ]
    }
   ],
   "source": [
    "#Q6\n",
    "a=int(input(\"Enter Number: \"))\n",
    "b=int(input(\"Enter Number: \"))\n",
    "print(\"Addition: \",a+b)"
   ]
  },
  {
   "cell_type": "code",
   "execution_count": 8,
   "metadata": {},
   "outputs": [
    {
     "name": "stdout",
     "output_type": "stream",
     "text": [
      "Enter marks of the Maths: 60\n",
      "Enter marks of the Eng: 80\n",
      "Enter marks of the Isl: 70\n",
      "Enter marks of the Urdu: 50\n",
      "Enter marks of the Science: 40\n",
      "Grade: B\n"
     ]
    }
   ],
   "source": [
    "#Q7\n",
    "sub1=int(input(\"Enter marks of the Maths: \"))\n",
    "sub2=int(input(\"Enter marks of the Eng: \"))\n",
    "sub3=int(input(\"Enter marks of the Isl: \"))\n",
    "sub4=int(input(\"Enter marks of the Urdu: \"))\n",
    "sub5=int(input(\"Enter marks of the Science: \"))\n",
    "avg=(sub1+sub2+sub3+sub4+sub4)/500\n",
    "perc = avg*100\n",
    "if(perc>=80 and perc<=100):\n",
    "    print(\"Grade: A+\")\n",
    "elif(perc>=70 and perc<80):\n",
    "    print(\"Grade: A\")\n",
    "elif(perc>=60 and perc<70):\n",
    "    print(\"Grade: B\")\n",
    "elif(perc>=50 and perc<60):\n",
    "    print(\"Grade: C\")\n",
    "elif(perc>=40 and perc<50):\n",
    "    print('Grade: D')\n",
    "else:\n",
    "    print(\"Grade: F\")"
   ]
  },
  {
   "cell_type": "code",
   "execution_count": 9,
   "metadata": {},
   "outputs": [
    {
     "name": "stdout",
     "output_type": "stream",
     "text": [
      "Enter Number: 2\n",
      "Number is Even\n"
     ]
    }
   ],
   "source": [
    "#Q8\n",
    "a=int(input(\"Enter Number: \"))\n",
    "if a%2==0:\n",
    "    print(\"Number is Even\")\n",
    "else:\n",
    "    print(\"Number is Odd\")"
   ]
  },
  {
   "cell_type": "code",
   "execution_count": 10,
   "metadata": {},
   "outputs": [
    {
     "name": "stdout",
     "output_type": "stream",
     "text": [
      "4\n"
     ]
    }
   ],
   "source": [
    "#Q9\n",
    "lst=[1,5,9,8]\n",
    "print(len(lst))"
   ]
  },
  {
   "cell_type": "code",
   "execution_count": 79,
   "metadata": {},
   "outputs": [
    {
     "name": "stdout",
     "output_type": "stream",
     "text": [
      "27\n"
     ]
    }
   ],
   "source": [
    "#Q10\n",
    "lst1=[1,5,6,7,8]\n",
    "print (sum(lst1))"
   ]
  },
  {
   "cell_type": "code",
   "execution_count": 80,
   "metadata": {},
   "outputs": [
    {
     "name": "stdout",
     "output_type": "stream",
     "text": [
      "8\n"
     ]
    }
   ],
   "source": [
    "#Q11\n",
    "lst1=[1,5,6,7,8]\n",
    "print (max(lst1))"
   ]
  },
  {
   "cell_type": "code",
   "execution_count": 11,
   "metadata": {},
   "outputs": [
    {
     "name": "stdout",
     "output_type": "stream",
     "text": [
      "1\n",
      "1\n",
      "2\n",
      "3\n"
     ]
    }
   ],
   "source": [
    "#Q12\n",
    "a = [1, 1, 2, 3, 5, 8, 13, 21, 34, 55, 89]\n",
    "for i in a:\n",
    "    if i<5:\n",
    "        print(i)"
   ]
  }
 ],
 "metadata": {
  "kernelspec": {
   "display_name": "Python 3",
   "language": "python",
   "name": "python3"
  },
  "language_info": {
   "codemirror_mode": {
    "name": "ipython",
    "version": 3
   },
   "file_extension": ".py",
   "mimetype": "text/x-python",
   "name": "python",
   "nbconvert_exporter": "python",
   "pygments_lexer": "ipython3",
   "version": "3.8.5"
  }
 },
 "nbformat": 4,
 "nbformat_minor": 2
}
